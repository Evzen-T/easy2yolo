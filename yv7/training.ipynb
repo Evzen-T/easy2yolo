{
 "cells": [
  {
   "cell_type": "code",
   "execution_count": null,
   "id": "d302dbea",
   "metadata": {},
   "outputs": [],
   "source": [
    "#Dependencies\n",
    "!source virtualv7/bin/activate && cd ./yolov7 && pip install -r requirements.txt\n",
    "!source virtualv7/bin/activate && pip install torch==1.11.0+cu113 torchvision==0.12.0+cu113 torchaudio==0.11.0 --extra-index-url https://download.pytorch.org/whl/cu113"
   ]
  },
  {
   "cell_type": "code",
   "execution_count": null,
   "id": "8c4a7618",
   "metadata": {},
   "outputs": [],
   "source": [
    "--------------------------------------------------------------------------------------------------------------------"
   ]
  },
  {
   "cell_type": "code",
   "execution_count": null,
   "id": "1b1372d4",
   "metadata": {},
   "outputs": [],
   "source": [
    "#Pretrain weights\n",
    "#yolov7-tiny.pt\n",
    "#yolov7.pt\n",
    "#yolov7-x.pt\n",
    "#yolov7w6.pt\n",
    "#yolov7-e6.pt\n",
    "#yolov7-d6.pt\n",
    "#yolov7-e6e.pt"
   ]
  },
  {
   "cell_type": "code",
   "execution_count": null,
   "id": "4f1b75a2",
   "metadata": {},
   "outputs": [],
   "source": [
    "#Train with custom dataset with yolov7 weights\n",
    "!source virtualv7/bin/activate && cd ./yolov7 && python3 train.py --img 640 640 --epochs 100 --batch-size 8 --data ./data.yaml --weights 'yolov7-tiny.pt' --cfg ./cfg/training/yolov7-tiny.yaml --hyp ./data/hyp.scratch.custom.yaml --device 0"
   ]
  },
  {
   "cell_type": "code",
   "execution_count": null,
   "id": "455895c9",
   "metadata": {},
   "outputs": [],
   "source": [
    "--------------------------------------------------------------------------------------------------------------------"
   ]
  }
 ],
 "metadata": {
  "kernelspec": {
   "display_name": "Python 3 (ipykernel)",
   "language": "python",
   "name": "python3"
  },
  "language_info": {
   "codemirror_mode": {
    "name": "ipython",
    "version": 3
   },
   "file_extension": ".py",
   "mimetype": "text/x-python",
   "name": "python",
   "nbconvert_exporter": "python",
   "pygments_lexer": "ipython3",
   "version": "3.8.10"
  }
 },
 "nbformat": 4,
 "nbformat_minor": 5
}
