{
 "cells": [
  {
   "cell_type": "code",
   "execution_count": null,
   "id": "1b1372d4",
   "metadata": {},
   "outputs": [],
   "source": [
    "#Pretrain weights\n",
    "#yolov7-tiny.pt\n",
    "#yolov7.pt\n",
    "#yolov7-x.pt\n",
    "#yolov7w6.pt\n",
    "#yolov7-e6.pt\n",
    "#yolov7-d6.pt\n",
    "#yolov7-e6e.pt"
   ]
  },
  {
   "cell_type": "code",
   "execution_count": null,
   "id": "4f1b75a2",
   "metadata": {},
   "outputs": [],
   "source": [
    "#For linux\n",
    "#Train with custom dataset with yolov7 weights\n",
    "!cd ./yolov7 && python3 train.py --img 640 640 --epochs 100 --batch-size 8 --data ./data.yaml --weights 'yolov7-tiny.pt' --cfg ./cfg/training/yolov7-tiny.yaml --hyp ./data/hyp.scratch.custom.yaml --device 0"
   ]
  },
  {
   "cell_type": "code",
   "execution_count": null,
   "id": "455895c9",
   "metadata": {},
   "outputs": [],
   "source": [
    "--------------------------------------------------------------------------------------------------------------------"
   ]
  },
  {
   "cell_type": "code",
   "execution_count": null,
   "id": "79042c82",
   "metadata": {},
   "outputs": [],
   "source": [
    "#For windows\n",
    "#Train with custom dataset with yolov7 weights\n",
    "!cd ./yolov7 && python train.py --img 640 640 --epochs 100 --batch-size 8 --data ./data.yaml --weights 'yolov7-tiny.pt' --cfg ./cfg/training/yolov7-tiny.yaml --hyp ./data/hyp.scratch.custom.yaml --device 0"
   ]
  },
  {
   "cell_type": "code",
   "execution_count": null,
   "id": "f2902948",
   "metadata": {},
   "outputs": [],
   "source": []
  }
 ],
 "metadata": {
  "kernelspec": {
   "display_name": "virtualv7",
   "language": "python",
   "name": "virtualv7"
  },
  "language_info": {
   "codemirror_mode": {
    "name": "ipython",
    "version": 3
   },
   "file_extension": ".py",
   "mimetype": "text/x-python",
   "name": "python",
   "nbconvert_exporter": "python",
   "pygments_lexer": "ipython3",
   "version": "3.8.8"
  }
 },
 "nbformat": 4,
 "nbformat_minor": 5
}
