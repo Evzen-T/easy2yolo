{
 "cells": [
  {
   "cell_type": "code",
   "execution_count": null,
   "id": "65d85e67",
   "metadata": {},
   "outputs": [],
   "source": [
    "#Pretrain weights\n",
    "#yolov5n.pt\n",
    "#yolov5s.pt\n",
    "#yolov5m.pt\n",
    "#yolov5l.pt\n",
    "#yolov5x.pt"
   ]
  },
  {
   "cell_type": "code",
   "execution_count": null,
   "id": "fa865d4d",
   "metadata": {},
   "outputs": [],
   "source": [
    "#For linux\n",
    "#Train with custom dataset with yolov5 weights\n",
    "!cd ./yolov5 && python3 train.py --img 640 --batch 32 --epochs 100 --data ./data.yaml --weights yolov5n.pt --cfg ./models/yolov5n.yaml --hyp ./data/hyps/hyp.scratch-low.yaml "
   ]
  },
  {
   "cell_type": "code",
   "execution_count": null,
   "id": "111c2029",
   "metadata": {},
   "outputs": [],
   "source": [
    "--------------------------------------------------------------------------------------------------------------------"
   ]
  },
  {
   "cell_type": "code",
   "execution_count": null,
   "id": "9d56b59e",
   "metadata": {},
   "outputs": [],
   "source": [
    "#For windows\n",
    "#Train with custom dataset with yolov5 weights\n",
    "!cd ./yolov5 && python train.py --img 640 --batch 32 --epochs 100 --data ./data.yaml --weights yolov5n.pt --cfg ./models/yolov5n.yaml --hyp ./data/hyps/hyp.scratch-low.yaml "
   ]
  },
  {
   "cell_type": "code",
   "execution_count": null,
   "id": "779d0f9b",
   "metadata": {},
   "outputs": [],
   "source": []
  }
 ],
 "metadata": {
  "kernelspec": {
   "display_name": "virtualv5",
   "language": "python",
   "name": "virtualv5"
  },
  "language_info": {
   "codemirror_mode": {
    "name": "ipython",
    "version": 3
   },
   "file_extension": ".py",
   "mimetype": "text/x-python",
   "name": "python",
   "nbconvert_exporter": "python",
   "pygments_lexer": "ipython3",
   "version": "3.8.8"
  }
 },
 "nbformat": 4,
 "nbformat_minor": 5
}
